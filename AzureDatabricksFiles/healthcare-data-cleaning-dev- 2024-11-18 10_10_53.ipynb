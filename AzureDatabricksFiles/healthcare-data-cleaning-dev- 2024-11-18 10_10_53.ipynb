{
 "cells": [
  {
   "cell_type": "code",
   "execution_count": 0,
   "metadata": {
    "application/vnd.databricks.v1+cell": {
     "cellMetadata": {
      "byteLimit": 2048000,
      "rowLimit": 10000
     },
     "inputWidgets": {},
     "nuid": "80c6f5fa-4450-42b4-ba7f-9b6e10c3dfd4",
     "showTitle": false,
     "tableResultSettingsMap": {},
     "title": ""
    }
   },
   "outputs": [],
   "source": [
    "import os\n",
    "import numpy as np\n",
    "from pyspark.sql.functions import col, lower, to_date, to_timestamp, year, when, current_date\n",
    "from scipy.stats import zscore"
   ]
  },
  {
   "cell_type": "code",
   "execution_count": 0,
   "metadata": {
    "application/vnd.databricks.v1+cell": {
     "cellMetadata": {
      "byteLimit": 2048000,
      "rowLimit": 10000
     },
     "inputWidgets": {},
     "nuid": "05a44f32-c120-46cb-9a2a-ef48fb27c6d6",
     "showTitle": false,
     "tableResultSettingsMap": {},
     "title": ""
    }
   },
   "outputs": [
    {
     "output_type": "execute_result",
     "data": {
      "text/plain": [
       "[FileInfo(path='dbfs:/mnt/staging/staging_layer/clinic.csv', name='clinic.csv', size=999, modificationTime=1732262809000),\n",
       " FileInfo(path='dbfs:/mnt/staging/staging_layer/patient.csv', name='patient.csv', size=5993, modificationTime=1732262782000),\n",
       " FileInfo(path='dbfs:/mnt/staging/staging_layer/physician.csv', name='physician.csv', size=976, modificationTime=1732262797000),\n",
       " FileInfo(path='dbfs:/mnt/staging/staging_layer/session.csv', name='session.csv', size=2392, modificationTime=1732262847000)]"
      ]
     },
     "execution_count": 2,
     "metadata": {},
     "output_type": "execute_result"
    }
   ],
   "source": [
    "dbutils.fs.ls(\"/mnt/staging/staging_layer\")"
   ]
  },
  {
   "cell_type": "code",
   "execution_count": 0,
   "metadata": {
    "application/vnd.databricks.v1+cell": {
     "cellMetadata": {
      "byteLimit": 2048000,
      "rowLimit": 10000
     },
     "inputWidgets": {},
     "nuid": "6b0c3833-82b5-4e04-96c1-efb50c6d5e3b",
     "showTitle": false,
     "tableResultSettingsMap": {},
     "title": ""
    }
   },
   "outputs": [
    {
     "output_type": "execute_result",
     "data": {
      "text/plain": [
       "[FileInfo(path='dbfs:/mnt/cleaning/cleaned_data/clinic.parquet/', name='clinic.parquet/', size=0, modificationTime=1732091443000),\n",
       " FileInfo(path='dbfs:/mnt/cleaning/cleaned_data/patient.parquet/', name='patient.parquet/', size=0, modificationTime=1732091442000),\n",
       " FileInfo(path='dbfs:/mnt/cleaning/cleaned_data/physician.parquet/', name='physician.parquet/', size=0, modificationTime=1732091442000),\n",
       " FileInfo(path='dbfs:/mnt/cleaning/cleaned_data/session.parquet/', name='session.parquet/', size=0, modificationTime=1732091444000)]"
      ]
     },
     "execution_count": 3,
     "metadata": {},
     "output_type": "execute_result"
    }
   ],
   "source": [
    "dbutils.fs.ls(\"/mnt/cleaning/cleaned_data\")"
   ]
  },
  {
   "cell_type": "code",
   "execution_count": 0,
   "metadata": {
    "application/vnd.databricks.v1+cell": {
     "cellMetadata": {
      "byteLimit": 2048000,
      "rowLimit": 10000
     },
     "inputWidgets": {},
     "nuid": "9ce97dfa-1ce8-4b67-9a38-cadefc856f42",
     "showTitle": false,
     "tableResultSettingsMap": {},
     "title": ""
    }
   },
   "outputs": [],
   "source": [
    "input_path = \"/mnt/staging/staging_layer/\"\n",
    "\n",
    "csv_files = [file_info.name for file_info in dbutils.fs.ls(input_path) if file_info.name.endswith(\".csv\")]\n",
    "\n",
    "data_frames = {}\n",
    "\n",
    "for csv_file in csv_files:\n",
    "  df_name = os.path.splitext(csv_file)[0]\n",
    "  df = spark.read.csv(os.path.join(input_path, csv_file), header=\"true\", inferSchema=\"true\")\n",
    "  data_frames[df_name] = df"
   ]
  },
  {
   "cell_type": "code",
   "execution_count": 0,
   "metadata": {
    "application/vnd.databricks.v1+cell": {
     "cellMetadata": {
      "byteLimit": 2048000,
      "rowLimit": 10000
     },
     "inputWidgets": {},
     "nuid": "c66af0fb-ec06-447d-aa69-7424ae6c21a8",
     "showTitle": false,
     "tableResultSettingsMap": {},
     "title": ""
    }
   },
   "outputs": [],
   "source": [
    "patient_df = data_frames[\"patient\"]\n",
    "physician_df = data_frames[\"physician\"]\n",
    "clinic_df = data_frames[\"clinic\"]\n",
    "session_df = data_frames[\"session\"]"
   ]
  },
  {
   "cell_type": "markdown",
   "metadata": {
    "application/vnd.databricks.v1+cell": {
     "cellMetadata": {
      "byteLimit": 2048000,
      "rowLimit": 10000
     },
     "inputWidgets": {},
     "nuid": "d5b47aa7-7e82-4bd7-bc32-839870ca9fee",
     "showTitle": false,
     "tableResultSettingsMap": {},
     "title": ""
    }
   },
   "source": [
    "# Data Transformation"
   ]
  },
  {
   "cell_type": "code",
   "execution_count": 0,
   "metadata": {
    "application/vnd.databricks.v1+cell": {
     "cellMetadata": {
      "byteLimit": 2048000,
      "rowLimit": 10000
     },
     "inputWidgets": {},
     "nuid": "7f45aac9-0cb2-4570-8726-9d1b3ceb5f14",
     "showTitle": false,
     "tableResultSettingsMap": {},
     "title": ""
    }
   },
   "outputs": [
    {
     "output_type": "stream",
     "name": "stdout",
     "output_type": "stream",
     "text": [
      "+---+--------------------+--------------------+----+-------------+--------------------+--------------------+------+\n| Id|          First_Name|           Last_Name| age|Year_Of_Birth|             Address|        Phone_Number|Gender|\n+---+--------------------+--------------------+----+-------------+--------------------+--------------------+------+\n|  1|a8cfcd74832004951...|fd53ef835b1548557...|  30|   1993-01-01|15550b5880db605d3...|25e77e5a54d1dfcd6...|  Male|\n|  2|4f23798d92708359b...|9f542590100424c92...|NULL|   1998-01-01|31924a83ca67c160b...|7f0314e4b8beaa73c...|Female|\n+---+--------------------+--------------------+----+-------------+--------------------+--------------------+------+\nonly showing top 2 rows\n\n+---+----------+---------+----------+\n| Id|First_Name|Last_Name|NPI_Number|\n+---+----------+---------+----------+\n|  1| Dr. Alice|    Brown|1234567890|\n|  2| Dr. James|    White|9876543217|\n+---+----------+---------+----------+\nonly showing top 2 rows\n\n+---+----------------+--------------+\n| Id|     Clinic_Name|       Address|\n+---+----------------+--------------+\n|  1| Downtown Health|123 Health Ave|\n|  2|Riverside Clinic|  456 River Rd|\n+---+----------------+--------------+\nonly showing top 2 rows\n\n+---+----------+------------+---------+------------+------------------+----------------+---------+\n| Id|Patient_Id|Physician_Id|Clinic_Id|Scheduled_On|Session_Started_At|Session_Ended_At|   Status|\n+---+----------+------------+---------+------------+------------------+----------------+---------+\n|  1|         1|           1|        1|  05-10-2023|  05-10-2023 09:00|05-10-2023 09:30|Confirmed|\n|  2|         2|           2|        2|  05-10-2023|              NULL|            NULL|Cancelled|\n+---+----------+------------+---------+------------+------------------+----------------+---------+\nonly showing top 2 rows\n\n"
     ]
    }
   ],
   "source": [
    "#Check the column header format\n",
    "display(patient_df.show(2))\n",
    "display(physician_df.show(2))\n",
    "display(clinic_df.show(2))\n",
    "display(session_df.show(2))"
   ]
  },
  {
   "cell_type": "markdown",
   "metadata": {
    "application/vnd.databricks.v1+cell": {
     "cellMetadata": {
      "byteLimit": 2048000,
      "rowLimit": 10000
     },
     "inputWidgets": {},
     "nuid": "a834aeb1-407a-454a-98de-393d7c8fe629",
     "showTitle": false,
     "tableResultSettingsMap": {},
     "title": ""
    }
   },
   "source": [
    "### Column Standardization"
   ]
  },
  {
   "cell_type": "code",
   "execution_count": 0,
   "metadata": {
    "application/vnd.databricks.v1+cell": {
     "cellMetadata": {
      "byteLimit": 2048000,
      "rowLimit": 10000
     },
     "inputWidgets": {},
     "nuid": "3c008a64-5859-4363-bb09-9a9d2dc2553b",
     "showTitle": false,
     "tableResultSettingsMap": {},
     "title": ""
    }
   },
   "outputs": [],
   "source": [
    "def column_standardize(df):\n",
    "  column_names = df.columns\n",
    "  for column_name in column_names:\n",
    "    df = df.withColumnRenamed(column_name, column_name.lower())\n",
    "  return df"
   ]
  },
  {
   "cell_type": "code",
   "execution_count": 0,
   "metadata": {
    "application/vnd.databricks.v1+cell": {
     "cellMetadata": {
      "byteLimit": 2048000,
      "rowLimit": 10000
     },
     "inputWidgets": {},
     "nuid": "2e197970-8b31-4c9b-8cc5-6bd56f0bfd8f",
     "showTitle": false,
     "tableResultSettingsMap": {},
     "title": ""
    }
   },
   "outputs": [],
   "source": [
    "patient_df = column_standardize(patient_df)\n",
    "physician_df = column_standardize(physician_df)\n",
    "clinic_df = column_standardize(clinic_df)\n",
    "session_df = column_standardize(session_df)"
   ]
  },
  {
   "cell_type": "code",
   "execution_count": 0,
   "metadata": {
    "application/vnd.databricks.v1+cell": {
     "cellMetadata": {
      "byteLimit": 2048000,
      "rowLimit": 10000
     },
     "inputWidgets": {},
     "nuid": "f0682ce1-4528-4c8e-94c6-1f1e940a463e",
     "showTitle": false,
     "tableResultSettingsMap": {},
     "title": ""
    }
   },
   "outputs": [
    {
     "output_type": "stream",
     "name": "stdout",
     "output_type": "stream",
     "text": [
      "+---+--------------------+--------------------+----+-------------+--------------------+--------------------+------+\n| id|          first_name|           last_name| age|year_of_birth|             address|        phone_number|gender|\n+---+--------------------+--------------------+----+-------------+--------------------+--------------------+------+\n|  1|a8cfcd74832004951...|fd53ef835b1548557...|  30|   1993-01-01|15550b5880db605d3...|25e77e5a54d1dfcd6...|  Male|\n|  2|4f23798d92708359b...|9f542590100424c92...|NULL|   1998-01-01|31924a83ca67c160b...|7f0314e4b8beaa73c...|Female|\n+---+--------------------+--------------------+----+-------------+--------------------+--------------------+------+\nonly showing top 2 rows\n\n+---+----------+---------+----------+\n| id|first_name|last_name|npi_number|\n+---+----------+---------+----------+\n|  1| Dr. Alice|    Brown|1234567890|\n|  2| Dr. James|    White|9876543217|\n+---+----------+---------+----------+\nonly showing top 2 rows\n\n+---+----------------+--------------+\n| id|     clinic_name|       address|\n+---+----------------+--------------+\n|  1| Downtown Health|123 Health Ave|\n|  2|Riverside Clinic|  456 River Rd|\n+---+----------------+--------------+\nonly showing top 2 rows\n\n+---+----------+------------+---------+------------+------------------+----------------+---------+\n| id|patient_id|physician_id|clinic_id|scheduled_on|session_started_at|session_ended_at|   status|\n+---+----------+------------+---------+------------+------------------+----------------+---------+\n|  1|         1|           1|        1|  05-10-2023|  05-10-2023 09:00|05-10-2023 09:30|Confirmed|\n|  2|         2|           2|        2|  05-10-2023|              NULL|            NULL|Cancelled|\n+---+----------+------------+---------+------------+------------------+----------------+---------+\nonly showing top 2 rows\n\n"
     ]
    }
   ],
   "source": [
    "display(patient_df.show(2))\n",
    "display(physician_df.show(2))\n",
    "display(clinic_df.show(2))\n",
    "display(session_df.show(2))"
   ]
  },
  {
   "cell_type": "markdown",
   "metadata": {
    "application/vnd.databricks.v1+cell": {
     "cellMetadata": {
      "byteLimit": 2048000,
      "rowLimit": 10000
     },
     "inputWidgets": {},
     "nuid": "30c996ec-2cb8-4589-b62d-74924d77d5a7",
     "showTitle": false,
     "tableResultSettingsMap": {},
     "title": ""
    }
   },
   "source": [
    "### Datatype check & Conversion"
   ]
  },
  {
   "cell_type": "code",
   "execution_count": 0,
   "metadata": {
    "application/vnd.databricks.v1+cell": {
     "cellMetadata": {
      "byteLimit": 2048000,
      "rowLimit": 10000
     },
     "inputWidgets": {},
     "nuid": "153ae501-2492-4fbe-aacd-c42aa72f6f0e",
     "showTitle": false,
     "tableResultSettingsMap": {},
     "title": ""
    }
   },
   "outputs": [
    {
     "output_type": "stream",
     "name": "stdout",
     "output_type": "stream",
     "text": [
      "+---+--------------------+--------------------+----+-------------+--------------------+--------------------+------+\n| id|          first_name|           last_name| age|year_of_birth|             address|        phone_number|gender|\n+---+--------------------+--------------------+----+-------------+--------------------+--------------------+------+\n|  1|a8cfcd74832004951...|fd53ef835b1548557...|  30|   1993-01-01|15550b5880db605d3...|25e77e5a54d1dfcd6...|  Male|\n|  2|4f23798d92708359b...|9f542590100424c92...|NULL|   1998-01-01|31924a83ca67c160b...|7f0314e4b8beaa73c...|Female|\n+---+--------------------+--------------------+----+-------------+--------------------+--------------------+------+\nonly showing top 2 rows\n\n"
     ]
    }
   ],
   "source": [
    "patient_df.show(2)"
   ]
  },
  {
   "cell_type": "code",
   "execution_count": 0,
   "metadata": {
    "application/vnd.databricks.v1+cell": {
     "cellMetadata": {
      "byteLimit": 2048000,
      "rowLimit": 10000
     },
     "inputWidgets": {},
     "nuid": "d71848f7-58ca-436b-895e-5a3a5ae629e3",
     "showTitle": false,
     "tableResultSettingsMap": {},
     "title": ""
    }
   },
   "outputs": [
    {
     "output_type": "stream",
     "name": "stdout",
     "output_type": "stream",
     "text": [
      "root\n |-- id: integer (nullable = true)\n |-- first_name: string (nullable = true)\n |-- last_name: string (nullable = true)\n |-- age: integer (nullable = true)\n |-- year_of_birth: date (nullable = true)\n |-- address: string (nullable = true)\n |-- phone_number: string (nullable = true)\n |-- gender: string (nullable = true)\n\n"
     ]
    }
   ],
   "source": [
    "patient_df.printSchema()"
   ]
  },
  {
   "cell_type": "code",
   "execution_count": 0,
   "metadata": {
    "application/vnd.databricks.v1+cell": {
     "cellMetadata": {
      "byteLimit": 2048000,
      "rowLimit": 10000
     },
     "inputWidgets": {},
     "nuid": "6c110861-e579-49a3-b8c9-c5cffe9186b2",
     "showTitle": false,
     "tableResultSettingsMap": {},
     "title": ""
    }
   },
   "outputs": [
    {
     "output_type": "stream",
     "name": "stdout",
     "output_type": "stream",
     "text": [
      "+---+----------+---------+----------+\n| id|first_name|last_name|npi_number|\n+---+----------+---------+----------+\n|  1| Dr. Alice|    Brown|1234567890|\n|  2| Dr. James|    White|9876543217|\n+---+----------+---------+----------+\nonly showing top 2 rows\n\n"
     ]
    }
   ],
   "source": [
    "physician_df.show(2)"
   ]
  },
  {
   "cell_type": "code",
   "execution_count": 0,
   "metadata": {
    "application/vnd.databricks.v1+cell": {
     "cellMetadata": {
      "byteLimit": 2048000,
      "rowLimit": 10000
     },
     "inputWidgets": {},
     "nuid": "59745c49-e0f7-4dcf-95dd-9cfdd169f58e",
     "showTitle": false,
     "tableResultSettingsMap": {},
     "title": ""
    }
   },
   "outputs": [
    {
     "output_type": "stream",
     "name": "stdout",
     "output_type": "stream",
     "text": [
      "root\n |-- id: integer (nullable = true)\n |-- first_name: string (nullable = true)\n |-- last_name: string (nullable = true)\n |-- npi_number: long (nullable = true)\n\n"
     ]
    }
   ],
   "source": [
    "physician_df.printSchema()"
   ]
  },
  {
   "cell_type": "code",
   "execution_count": 0,
   "metadata": {
    "application/vnd.databricks.v1+cell": {
     "cellMetadata": {
      "byteLimit": 2048000,
      "rowLimit": 10000
     },
     "inputWidgets": {},
     "nuid": "654113ee-693d-4900-a953-edaec655b0af",
     "showTitle": false,
     "tableResultSettingsMap": {},
     "title": ""
    }
   },
   "outputs": [
    {
     "output_type": "stream",
     "name": "stdout",
     "output_type": "stream",
     "text": [
      "+---+----------------+--------------+\n| id|     clinic_name|       address|\n+---+----------------+--------------+\n|  1| Downtown Health|123 Health Ave|\n|  2|Riverside Clinic|  456 River Rd|\n+---+----------------+--------------+\nonly showing top 2 rows\n\n"
     ]
    }
   ],
   "source": [
    "clinic_df.show(2)"
   ]
  },
  {
   "cell_type": "code",
   "execution_count": 0,
   "metadata": {
    "application/vnd.databricks.v1+cell": {
     "cellMetadata": {
      "byteLimit": 2048000,
      "rowLimit": 10000
     },
     "inputWidgets": {},
     "nuid": "7c93f5e2-38fc-43b4-b90e-80d28fe5f666",
     "showTitle": false,
     "tableResultSettingsMap": {},
     "title": ""
    }
   },
   "outputs": [
    {
     "output_type": "stream",
     "name": "stdout",
     "output_type": "stream",
     "text": [
      "root\n |-- id: integer (nullable = true)\n |-- clinic_name: string (nullable = true)\n |-- address: string (nullable = true)\n\n"
     ]
    }
   ],
   "source": [
    "clinic_df.printSchema()"
   ]
  },
  {
   "cell_type": "code",
   "execution_count": 0,
   "metadata": {
    "application/vnd.databricks.v1+cell": {
     "cellMetadata": {
      "byteLimit": 2048000,
      "rowLimit": 10000
     },
     "inputWidgets": {},
     "nuid": "c92bc640-2dfa-42d0-a545-4391f5caec1b",
     "showTitle": false,
     "tableResultSettingsMap": {},
     "title": ""
    }
   },
   "outputs": [
    {
     "output_type": "stream",
     "name": "stdout",
     "output_type": "stream",
     "text": [
      "+---+----------+------------+---------+------------+------------------+----------------+---------+\n| id|patient_id|physician_id|clinic_id|scheduled_on|session_started_at|session_ended_at|   status|\n+---+----------+------------+---------+------------+------------------+----------------+---------+\n|  1|         1|           1|        1|  05-10-2023|  05-10-2023 09:00|05-10-2023 09:30|Confirmed|\n|  2|         2|           2|        2|  05-10-2023|              NULL|            NULL|Cancelled|\n+---+----------+------------+---------+------------+------------------+----------------+---------+\nonly showing top 2 rows\n\n"
     ]
    }
   ],
   "source": [
    "session_df.show(2)"
   ]
  },
  {
   "cell_type": "code",
   "execution_count": 0,
   "metadata": {
    "application/vnd.databricks.v1+cell": {
     "cellMetadata": {
      "byteLimit": 2048000,
      "rowLimit": 10000
     },
     "inputWidgets": {},
     "nuid": "11a8731e-35da-4455-a397-bac81f7c8972",
     "showTitle": false,
     "tableResultSettingsMap": {},
     "title": ""
    }
   },
   "outputs": [
    {
     "output_type": "stream",
     "name": "stdout",
     "output_type": "stream",
     "text": [
      "root\n |-- id: integer (nullable = true)\n |-- patient_id: integer (nullable = true)\n |-- physician_id: integer (nullable = true)\n |-- clinic_id: integer (nullable = true)\n |-- scheduled_on: string (nullable = true)\n |-- session_started_at: string (nullable = true)\n |-- session_ended_at: string (nullable = true)\n |-- status: string (nullable = true)\n\n"
     ]
    }
   ],
   "source": [
    "session_df.printSchema()"
   ]
  },
  {
   "cell_type": "code",
   "execution_count": 0,
   "metadata": {
    "application/vnd.databricks.v1+cell": {
     "cellMetadata": {
      "byteLimit": 2048000,
      "rowLimit": 10000
     },
     "inputWidgets": {},
     "nuid": "e411fb08-acb4-4107-8bd1-471d90a73ada",
     "showTitle": false,
     "tableResultSettingsMap": {},
     "title": ""
    }
   },
   "outputs": [],
   "source": [
    "session_df = session_df.withColumn(\"scheduled_on\", to_date(session_df[\"scheduled_on\"], \"dd-MM-yyyy\")).\\\n",
    "  withColumn(\"session_started_at\", to_timestamp(session_df[\"session_started_at\"], \"dd-MM-yyyy HH:mm\")).\\\n",
    "  withColumn(\"session_ended_at\", to_timestamp(session_df[\"session_ended_at\"], \"dd-MM-yyyy HH:mm\"))"
   ]
  },
  {
   "cell_type": "code",
   "execution_count": 0,
   "metadata": {
    "application/vnd.databricks.v1+cell": {
     "cellMetadata": {
      "byteLimit": 2048000,
      "rowLimit": 10000
     },
     "inputWidgets": {},
     "nuid": "dd0f1dbb-2e07-46d7-915d-91c94fdbb532",
     "showTitle": false,
     "tableResultSettingsMap": {},
     "title": ""
    }
   },
   "outputs": [
    {
     "output_type": "stream",
     "name": "stdout",
     "output_type": "stream",
     "text": [
      "+---+----------+------------+---------+------------+-------------------+-------------------+---------+\n| id|patient_id|physician_id|clinic_id|scheduled_on| session_started_at|   session_ended_at|   status|\n+---+----------+------------+---------+------------+-------------------+-------------------+---------+\n|  1|         1|           1|        1|  2023-10-05|2023-10-05 09:00:00|2023-10-05 09:30:00|Confirmed|\n|  2|         2|           2|        2|  2023-10-05|               NULL|               NULL|Cancelled|\n+---+----------+------------+---------+------------+-------------------+-------------------+---------+\nonly showing top 2 rows\n\n"
     ]
    }
   ],
   "source": [
    "session_df.show(2)"
   ]
  },
  {
   "cell_type": "code",
   "execution_count": 0,
   "metadata": {
    "application/vnd.databricks.v1+cell": {
     "cellMetadata": {
      "byteLimit": 2048000,
      "rowLimit": 10000
     },
     "inputWidgets": {},
     "nuid": "086c50aa-6812-4c9a-ae47-b67811f6179d",
     "showTitle": false,
     "tableResultSettingsMap": {},
     "title": ""
    }
   },
   "outputs": [
    {
     "output_type": "stream",
     "name": "stdout",
     "output_type": "stream",
     "text": [
      "root\n |-- id: integer (nullable = true)\n |-- patient_id: integer (nullable = true)\n |-- physician_id: integer (nullable = true)\n |-- clinic_id: integer (nullable = true)\n |-- scheduled_on: date (nullable = true)\n |-- session_started_at: timestamp (nullable = true)\n |-- session_ended_at: timestamp (nullable = true)\n |-- status: string (nullable = true)\n\n"
     ]
    }
   ],
   "source": [
    "session_df.printSchema()"
   ]
  },
  {
   "cell_type": "markdown",
   "metadata": {
    "application/vnd.databricks.v1+cell": {
     "cellMetadata": {
      "byteLimit": 2048000,
      "rowLimit": 10000
     },
     "inputWidgets": {},
     "nuid": "9ac5d20e-ba7c-4ab0-a4cf-2f41d484c605",
     "showTitle": false,
     "tableResultSettingsMap": {},
     "title": ""
    }
   },
   "source": [
    "### Handling Missing Values"
   ]
  },
  {
   "cell_type": "code",
   "execution_count": 0,
   "metadata": {
    "application/vnd.databricks.v1+cell": {
     "cellMetadata": {
      "byteLimit": 2048000,
      "rowLimit": 10000
     },
     "inputWidgets": {},
     "nuid": "32d0ff2a-2462-4db5-baec-441168fb2686",
     "showTitle": false,
     "tableResultSettingsMap": {},
     "title": ""
    }
   },
   "outputs": [
    {
     "output_type": "stream",
     "name": "stdout",
     "output_type": "stream",
     "text": [
      "+---+--------------------+--------------------+----+-------------+--------------------+--------------------+------+\n| id|          first_name|           last_name| age|year_of_birth|             address|        phone_number|gender|\n+---+--------------------+--------------------+----+-------------+--------------------+--------------------+------+\n|  1|a8cfcd74832004951...|fd53ef835b1548557...|  30|   1993-01-01|15550b5880db605d3...|25e77e5a54d1dfcd6...|  Male|\n|  2|4f23798d92708359b...|9f542590100424c92...|NULL|   1998-01-01|31924a83ca67c160b...|7f0314e4b8beaa73c...|Female|\n|  3|3bc51062973c458d5...|3013b18f4387bbe12...|  40|   1983-01-01|fd0a8c28f44d206e4...|cc9911cda34343c33...|Female|\n+---+--------------------+--------------------+----+-------------+--------------------+--------------------+------+\nonly showing top 3 rows\n\n"
     ]
    }
   ],
   "source": [
    "patient_df.show(3)"
   ]
  },
  {
   "cell_type": "code",
   "execution_count": 0,
   "metadata": {
    "application/vnd.databricks.v1+cell": {
     "cellMetadata": {
      "byteLimit": 2048000,
      "rowLimit": 10000
     },
     "inputWidgets": {},
     "nuid": "ea1e3790-45f2-400a-b151-52a0e93ead0e",
     "showTitle": false,
     "tableResultSettingsMap": {},
     "title": ""
    }
   },
   "outputs": [],
   "source": [
    "patient_df = patient_df.withColumn(\"year_of_birth\", year(col(\"year_of_birth\")))\n"
   ]
  },
  {
   "cell_type": "code",
   "execution_count": 0,
   "metadata": {
    "application/vnd.databricks.v1+cell": {
     "cellMetadata": {
      "byteLimit": 2048000,
      "rowLimit": 10000
     },
     "inputWidgets": {},
     "nuid": "b2f4a68c-af0e-4658-9d04-f27cb6e3736d",
     "showTitle": false,
     "tableResultSettingsMap": {},
     "title": ""
    }
   },
   "outputs": [
    {
     "output_type": "stream",
     "name": "stdout",
     "output_type": "stream",
     "text": [
      "+---+--------------------+--------------------+----+-------------+--------------------+--------------------+------+\n| id|          first_name|           last_name| age|year_of_birth|             address|        phone_number|gender|\n+---+--------------------+--------------------+----+-------------+--------------------+--------------------+------+\n|  1|a8cfcd74832004951...|fd53ef835b1548557...|  30|         1993|15550b5880db605d3...|25e77e5a54d1dfcd6...|  Male|\n|  2|4f23798d92708359b...|9f542590100424c92...|NULL|         1998|31924a83ca67c160b...|7f0314e4b8beaa73c...|Female|\n|  3|3bc51062973c458d5...|3013b18f4387bbe12...|  40|         1983|fd0a8c28f44d206e4...|cc9911cda34343c33...|Female|\n|  4|d7cda0ca2c8586e51...|c2793b826cc96e7fe...|  22|         2001|0f8df68718227e4fa...|10f7448bdfabade89...|  Male|\n|  5|048a2730d09826f3e...|6e8d8801f51aafe84...|  35|         1988|9b82829bd57dba3c6...|15590de3098bbbf08...|Female|\n|  6|f089eaef57aba315b...|18f285592896ec8ea...|NULL|         1992|a5de8f4b1ea4c94dd...|e9a40eb20eefb1b16...|  Male|\n|  7|fb338e53da57ec89c...|683313d6908437971...|  29|         1994|b49ddd570bc60bccc...|48636cd9eeece7806...|Female|\n|  8|a6b54c20a7b96eeac...|2c3aaefea8267c668...|NULL|         1985|822547ee4fb4d6d83...|01f0bc4c654ccbbfc...|  Male|\n|  9|7e8c729e4e4ecc320...|716545ea5827317b5...|  27|         1996|55666a813d7be45b4...|0d4ba5efb9ac1cbbc...|Female|\n| 10|9ae4bc0e32db0e348...|1cd8e5f4826e1e694...|NULL|         2000|5f3da6eaa6585bf00...|4431165ce1710e9a3...|  Male|\n+---+--------------------+--------------------+----+-------------+--------------------+--------------------+------+\nonly showing top 10 rows\n\n"
     ]
    }
   ],
   "source": [
    "patient_df.show(10)"
   ]
  },
  {
   "cell_type": "code",
   "execution_count": 0,
   "metadata": {
    "application/vnd.databricks.v1+cell": {
     "cellMetadata": {
      "byteLimit": 2048000,
      "rowLimit": 10000
     },
     "inputWidgets": {},
     "nuid": "2ba435c8-4325-47bd-b228-636d1a5623ec",
     "showTitle": false,
     "tableResultSettingsMap": {},
     "title": ""
    }
   },
   "outputs": [
    {
     "output_type": "stream",
     "name": "stdout",
     "output_type": "stream",
     "text": [
      "+---+--------------------+--------------------+---+-------------+--------------------+--------------------+------+\n| id|          first_name|           last_name|age|year_of_birth|             address|        phone_number|gender|\n+---+--------------------+--------------------+---+-------------+--------------------+--------------------+------+\n|  1|a8cfcd74832004951...|fd53ef835b1548557...| 30|         1993|15550b5880db605d3...|25e77e5a54d1dfcd6...|  Male|\n|  2|4f23798d92708359b...|9f542590100424c92...| 25|         1998|31924a83ca67c160b...|7f0314e4b8beaa73c...|Female|\n|  3|3bc51062973c458d5...|3013b18f4387bbe12...| 40|         1983|fd0a8c28f44d206e4...|cc9911cda34343c33...|Female|\n|  4|d7cda0ca2c8586e51...|c2793b826cc96e7fe...| 22|         2001|0f8df68718227e4fa...|10f7448bdfabade89...|  Male|\n|  5|048a2730d09826f3e...|6e8d8801f51aafe84...| 35|         1988|9b82829bd57dba3c6...|15590de3098bbbf08...|Female|\n|  6|f089eaef57aba315b...|18f285592896ec8ea...| 31|         1992|a5de8f4b1ea4c94dd...|e9a40eb20eefb1b16...|  Male|\n|  7|fb338e53da57ec89c...|683313d6908437971...| 29|         1994|b49ddd570bc60bccc...|48636cd9eeece7806...|Female|\n|  8|a6b54c20a7b96eeac...|2c3aaefea8267c668...| 38|         1985|822547ee4fb4d6d83...|01f0bc4c654ccbbfc...|  Male|\n|  9|7e8c729e4e4ecc320...|716545ea5827317b5...| 27|         1996|55666a813d7be45b4...|0d4ba5efb9ac1cbbc...|Female|\n| 10|9ae4bc0e32db0e348...|1cd8e5f4826e1e694...| 23|         2000|5f3da6eaa6585bf00...|4431165ce1710e9a3...|  Male|\n| 11|b74f836916b6b3d61...|bf3a101fff20ccd1e...| 45|         1978|eb1b95273176922ee...|10241ef444f9293bd...|Female|\n| 12|5714e04739071aabd...|95c5dd81e14a7113b...| 31|         1992|e237bbccc628353ee...|5f890129b6f374758...|  Male|\n| 13|d389e0c290ef5aaf0...|11a4f480c4c0a039d...| 38|         1985|1bd218a4a4e650abb...|385cf80592e8ca3cc...|Female|\n| 14|0e4dd66217fc8d2e2...|fb7961d139e4da12a...| 26|         1997|a358f3fe30bd36a18...|c2551dd24c1545e2c...|  Male|\n| 15|1bda9e5035725cc6c...|9eac806b76bab0185...| 50|         1973|b2bef8c4f138db9dc...|2a789ff54301b6468...|Female|\n| 16|818b5cc5f21d3e6e4...|5dfcf9ef1fb1ecbce...| 28|         1995|cd73b4aa92d7481a8...|192dfa1a07a429dda...|  Male|\n| 17|fb338e53da57ec89c...|c2793b826cc96e7fe...| 29|         1994|5df033c7a48cef96c...|edd61904b93b0b1e4...|Female|\n| 18|52684c8c455d2024f...|502ae197407d7228d...| 34|         1989|286312d4fd1f16fed...|cc4fc33a150b9a56d...|Female|\n| 19|edd2916124c93479c...|3495e757855a5c678...| 33|         1990|3438944f48271b669...|c3fe57706a1b7d41e...|  Male|\n| 20|f6dce2c608ef3fd52...|95c5dd81e14a7113b...| 36|         1987|6b434fca9f174a699...|34a4b5de0810f8c31...|Female|\n+---+--------------------+--------------------+---+-------------+--------------------+--------------------+------+\nonly showing top 20 rows\n\n"
     ]
    }
   ],
   "source": [
    "patient_df = patient_df.withColumn(\"age\", when(col(\"age\").isNull(), year(current_date()) - col(\"year_of_birth\") -1).otherwise(col(\"age\")))\n",
    "patient_df.show()"
   ]
  },
  {
   "cell_type": "code",
   "execution_count": 0,
   "metadata": {
    "application/vnd.databricks.v1+cell": {
     "cellMetadata": {
      "byteLimit": 2048000,
      "rowLimit": 10000
     },
     "inputWidgets": {},
     "nuid": "0a973216-4ac6-472b-be91-95b0307d483d",
     "showTitle": false,
     "tableResultSettingsMap": {},
     "title": ""
    }
   },
   "outputs": [
    {
     "output_type": "stream",
     "name": "stdout",
     "output_type": "stream",
     "text": [
      "+---+------------+---------+----------+\n| id|  first_name|last_name|npi_number|\n+---+------------+---------+----------+\n|  1|   Dr. Alice|    Brown|1234567890|\n|  2|   Dr. James|    White|9876543217|\n|  3| Dr. Charlie|    Green|1122334455|\n|  4|   Dr. Emily| Thompson|2233445566|\n|  5|   Dr. Emily|  Johnson|3344556677|\n|  6|   Dr. David|    Smith|4455667788|\n|  7|   Dr. Megan|      Lee|5566778899|\n|  8| Dr. Michael|   Wilson|6677889900|\n|  9|    Dr. Mark|Hernandez|7788990011|\n| 10|   Dr. Sarah|   Taylor|8899001122|\n| 11|   Dr. James|   Carter|9900112233|\n| 12| Dr. Jessica| Anderson|1011121314|\n| 13|   Dr. Laura|   Thomas|1213141516|\n| 14|    Dr. John|   Miller|1314151617|\n| 15|Dr. Patricia|   Wilson|1415161718|\n| 16|   Dr. David|   Garcia|1516171819|\n| 17|   Dr. Kevin|    Brown|1617181920|\n| 18|  Dr. Angela| Martinez|1718192021|\n| 19|  Dr. Ashley|    Davis|1819202122|\n| 20|   Dr. Brian|    Clark|1920212223|\n+---+------------+---------+----------+\nonly showing top 20 rows\n\n"
     ]
    }
   ],
   "source": [
    "physician_df.show()"
   ]
  },
  {
   "cell_type": "code",
   "execution_count": 0,
   "metadata": {
    "application/vnd.databricks.v1+cell": {
     "cellMetadata": {
      "byteLimit": 2048000,
      "rowLimit": 10000
     },
     "inputWidgets": {},
     "nuid": "b352a671-cd80-43db-819f-1210c5a32e17",
     "showTitle": false,
     "tableResultSettingsMap": {},
     "title": ""
    }
   },
   "outputs": [
    {
     "output_type": "stream",
     "name": "stdout",
     "output_type": "stream",
     "text": [
      "+---+--------------------+-----------------+\n| id|         clinic_name|          address|\n+---+--------------------+-----------------+\n|  1|     Downtown Health|   123 Health Ave|\n|  2|    Riverside Clinic|     456 River Rd|\n|  3|     Wellness Center|789 Wellness Blvd|\n|  4|  City Medical Group|      101 Main St|\n|  5|Lakeside Family C...|  202 Lakeview Dr|\n|  6| Green Valley Clinic|303 Greenway Blvd|\n|  7|  Health Plus Clinic|    404 Health St|\n|  8|Eastside Medical ...|      505 East St|\n|  9|Northpoint Health...|    606 North Ave|\n| 10|    Sunnydale Clinic|     707 Sunny St|\n| 11|Family Health Center|   808 Family Ave|\n| 12| Central City Clinic| 909 Central Blvd|\n| 13| New Horizons Clinic|  1010 Horizon Dr|\n| 14|Clearview Medical...|1111 Clearview St|\n| 15|Healthy Living Cl...|1212 Wellness Way|\n| 16|    Starlight Health|     1313 Star Rd|\n| 17|   Silver Oak Clinic|   1414 Silver St|\n| 18|Pine Grove Medica...|     1515 Pine Rd|\n| 19|   Summit Healthcare|  1616 Summit Ave|\n| 20|Harmony Health Cl...|  1717 Harmony St|\n+---+--------------------+-----------------+\nonly showing top 20 rows\n\n"
     ]
    }
   ],
   "source": [
    "clinic_df.show()"
   ]
  },
  {
   "cell_type": "code",
   "execution_count": 0,
   "metadata": {
    "application/vnd.databricks.v1+cell": {
     "cellMetadata": {
      "byteLimit": 2048000,
      "rowLimit": 10000
     },
     "inputWidgets": {},
     "nuid": "2acc2830-ab89-4dc3-924f-a8d85d2a9f9c",
     "showTitle": false,
     "tableResultSettingsMap": {},
     "title": ""
    }
   },
   "outputs": [
    {
     "output_type": "stream",
     "name": "stdout",
     "output_type": "stream",
     "text": [
      "+---+----------+------------+---------+------------+-------------------+-------------------+---------+\n| id|patient_id|physician_id|clinic_id|scheduled_on| session_started_at|   session_ended_at|   status|\n+---+----------+------------+---------+------------+-------------------+-------------------+---------+\n|  1|         1|           1|        1|  2023-10-05|2023-10-05 09:00:00|2023-10-05 09:30:00|Confirmed|\n|  2|         2|           2|        2|  2023-10-05|               NULL|               NULL|Cancelled|\n|  3|         3|           1|        1|  2023-10-05|2023-10-05 11:00:00|2023-10-05 11:30:00|Confirmed|\n|  4|         4|           3|        3|  2023-10-05|2023-10-05 12:00:00|2023-10-05 12:30:00|Confirmed|\n|  5|         5|           2|        2|  2023-10-05|2023-10-05 13:00:00|2023-10-05 13:45:00|Confirmed|\n|  6|         6|           2|        1|  2023-10-05|               NULL|               NULL|Cancelled|\n|  7|         7|           1|        3|  2023-10-05|2023-10-05 15:00:00|2023-10-05 15:30:00|Confirmed|\n|  8|         8|           3|        2|  2023-10-05|2023-10-05 16:00:00|2023-10-05 16:45:00|Confirmed|\n|  9|         9|           2|        1|  2023-10-05|2023-10-05 17:00:00|2023-10-05 17:30:00|Confirmed|\n| 10|        10|           1|        3|  2023-10-05|2023-10-05 18:00:00|2023-10-05 18:30:00|Confirmed|\n| 11|         1|           2|        2|  2023-10-06|2023-10-06 09:00:00|2023-10-06 09:45:00|Confirmed|\n| 12|         2|           3|        1|  2023-10-06|               NULL|               NULL|Cancelled|\n| 13|         3|           1|        3|  2023-10-06|2023-10-06 11:00:00|2023-10-06 11:45:00|Confirmed|\n| 14|         4|           2|        2|  2023-10-06|2023-10-06 12:00:00|2023-10-06 12:30:00|Confirmed|\n| 15|         5|           3|        1|  2023-10-06|2023-10-06 13:00:00|2023-10-06 13:45:00|Confirmed|\n| 16|         6|           1|        3|  2023-10-06|2023-10-06 14:00:00|2023-10-06 14:30:00|Confirmed|\n| 17|         7|           2|        2|  2023-10-06|               NULL|               NULL|Cancelled|\n| 18|         8|           3|        1|  2023-10-06|2023-10-06 16:00:00|2023-10-06 16:45:00|Confirmed|\n| 19|         9|           1|        2|  2023-10-06|2023-10-06 17:00:00|2023-10-06 17:30:00|Confirmed|\n| 20|        10|           2|        3|  2023-10-06|2023-10-06 18:00:00|2023-10-06 18:30:00|Confirmed|\n+---+----------+------------+---------+------------+-------------------+-------------------+---------+\nonly showing top 20 rows\n\n"
     ]
    }
   ],
   "source": [
    "session_df.show()"
   ]
  },
  {
   "cell_type": "markdown",
   "metadata": {
    "application/vnd.databricks.v1+cell": {
     "cellMetadata": {
      "byteLimit": 2048000,
      "rowLimit": 10000
     },
     "inputWidgets": {},
     "nuid": "860ec9df-b77a-40c6-91da-54d45dd7aed6",
     "showTitle": false,
     "tableResultSettingsMap": {},
     "title": ""
    }
   },
   "source": [
    "### Outlier Detection"
   ]
  },
  {
   "cell_type": "code",
   "execution_count": 0,
   "metadata": {
    "application/vnd.databricks.v1+cell": {
     "cellMetadata": {
      "byteLimit": 2048000,
      "rowLimit": 10000
     },
     "inputWidgets": {},
     "nuid": "02871ae4-d586-4e9b-be8e-3e68965ea46e",
     "showTitle": false,
     "tableResultSettingsMap": {},
     "title": ""
    }
   },
   "outputs": [
    {
     "output_type": "stream",
     "name": "stdout",
     "output_type": "stream",
     "text": [
      "+---+--------------------+--------------------+---+-------------+--------------------+--------------------+------+\n| id|          first_name|           last_name|age|year_of_birth|             address|        phone_number|gender|\n+---+--------------------+--------------------+---+-------------+--------------------+--------------------+------+\n|  1|a8cfcd74832004951...|fd53ef835b1548557...| 30|         1993|15550b5880db605d3...|25e77e5a54d1dfcd6...|  Male|\n|  2|4f23798d92708359b...|9f542590100424c92...| 25|         1998|31924a83ca67c160b...|7f0314e4b8beaa73c...|Female|\n|  3|3bc51062973c458d5...|3013b18f4387bbe12...| 40|         1983|fd0a8c28f44d206e4...|cc9911cda34343c33...|Female|\n|  4|d7cda0ca2c8586e51...|c2793b826cc96e7fe...| 22|         2001|0f8df68718227e4fa...|10f7448bdfabade89...|  Male|\n|  5|048a2730d09826f3e...|6e8d8801f51aafe84...| 35|         1988|9b82829bd57dba3c6...|15590de3098bbbf08...|Female|\n|  6|f089eaef57aba315b...|18f285592896ec8ea...| 31|         1992|a5de8f4b1ea4c94dd...|e9a40eb20eefb1b16...|  Male|\n|  7|fb338e53da57ec89c...|683313d6908437971...| 29|         1994|b49ddd570bc60bccc...|48636cd9eeece7806...|Female|\n|  8|a6b54c20a7b96eeac...|2c3aaefea8267c668...| 38|         1985|822547ee4fb4d6d83...|01f0bc4c654ccbbfc...|  Male|\n|  9|7e8c729e4e4ecc320...|716545ea5827317b5...| 27|         1996|55666a813d7be45b4...|0d4ba5efb9ac1cbbc...|Female|\n| 10|9ae4bc0e32db0e348...|1cd8e5f4826e1e694...| 23|         2000|5f3da6eaa6585bf00...|4431165ce1710e9a3...|  Male|\n| 11|b74f836916b6b3d61...|bf3a101fff20ccd1e...| 45|         1978|eb1b95273176922ee...|10241ef444f9293bd...|Female|\n| 12|5714e04739071aabd...|95c5dd81e14a7113b...| 31|         1992|e237bbccc628353ee...|5f890129b6f374758...|  Male|\n| 13|d389e0c290ef5aaf0...|11a4f480c4c0a039d...| 38|         1985|1bd218a4a4e650abb...|385cf80592e8ca3cc...|Female|\n| 14|0e4dd66217fc8d2e2...|fb7961d139e4da12a...| 26|         1997|a358f3fe30bd36a18...|c2551dd24c1545e2c...|  Male|\n| 15|1bda9e5035725cc6c...|9eac806b76bab0185...| 50|         1973|b2bef8c4f138db9dc...|2a789ff54301b6468...|Female|\n| 16|818b5cc5f21d3e6e4...|5dfcf9ef1fb1ecbce...| 28|         1995|cd73b4aa92d7481a8...|192dfa1a07a429dda...|  Male|\n| 17|fb338e53da57ec89c...|c2793b826cc96e7fe...| 29|         1994|5df033c7a48cef96c...|edd61904b93b0b1e4...|Female|\n| 18|52684c8c455d2024f...|502ae197407d7228d...| 34|         1989|286312d4fd1f16fed...|cc4fc33a150b9a56d...|Female|\n| 19|edd2916124c93479c...|3495e757855a5c678...| 33|         1990|3438944f48271b669...|c3fe57706a1b7d41e...|  Male|\n| 20|f6dce2c608ef3fd52...|95c5dd81e14a7113b...| 36|         1987|6b434fca9f174a699...|34a4b5de0810f8c31...|Female|\n+---+--------------------+--------------------+---+-------------+--------------------+--------------------+------+\nonly showing top 20 rows\n\n"
     ]
    }
   ],
   "source": [
    "patient_df.show()"
   ]
  },
  {
   "cell_type": "code",
   "execution_count": 0,
   "metadata": {
    "application/vnd.databricks.v1+cell": {
     "cellMetadata": {
      "byteLimit": 2048000,
      "rowLimit": 10000
     },
     "inputWidgets": {},
     "nuid": "04d8cec6-d7be-4f02-976a-539c7d8c13c0",
     "showTitle": false,
     "tableResultSettingsMap": {},
     "title": ""
    }
   },
   "outputs": [
    {
     "output_type": "execute_result",
     "data": {
      "text/plain": [
       "(array([], dtype=int64), array([], dtype=int64))"
      ]
     },
     "execution_count": 29,
     "metadata": {},
     "output_type": "execute_result"
    }
   ],
   "source": [
    "z_score = zscore(patient_df.select(\"age\").toPandas())\n",
    "outliers = np.where(abs(z_score) > 3)\n",
    "outliers"
   ]
  },
  {
   "cell_type": "markdown",
   "metadata": {
    "application/vnd.databricks.v1+cell": {
     "cellMetadata": {
      "byteLimit": 2048000,
      "rowLimit": 10000
     },
     "inputWidgets": {},
     "nuid": "ba83a167-2317-4a3e-a31d-a44e5aaf0c37",
     "showTitle": false,
     "tableResultSettingsMap": {},
     "title": ""
    }
   },
   "source": [
    "### Duplication check & Removal"
   ]
  },
  {
   "cell_type": "code",
   "execution_count": 0,
   "metadata": {
    "application/vnd.databricks.v1+cell": {
     "cellMetadata": {
      "byteLimit": 2048000,
      "rowLimit": 10000
     },
     "inputWidgets": {},
     "nuid": "893dccb1-49b7-49a2-92ec-8f41134d4d65",
     "showTitle": false,
     "tableResultSettingsMap": {},
     "title": ""
    }
   },
   "outputs": [
    {
     "output_type": "stream",
     "name": "stdout",
     "output_type": "stream",
     "text": [
      "+---+--------------------+--------------------+---+-------------+--------------------+--------------------+------+\n| id|          first_name|           last_name|age|year_of_birth|             address|        phone_number|gender|\n+---+--------------------+--------------------+---+-------------+--------------------+--------------------+------+\n|  1|a8cfcd74832004951...|fd53ef835b1548557...| 30|         1993|15550b5880db605d3...|25e77e5a54d1dfcd6...|  Male|\n|  2|4f23798d92708359b...|9f542590100424c92...| 25|         1998|31924a83ca67c160b...|7f0314e4b8beaa73c...|Female|\n+---+--------------------+--------------------+---+-------------+--------------------+--------------------+------+\nonly showing top 2 rows\n\n"
     ]
    }
   ],
   "source": [
    "patient_df.show(2)"
   ]
  },
  {
   "cell_type": "code",
   "execution_count": 0,
   "metadata": {
    "application/vnd.databricks.v1+cell": {
     "cellMetadata": {
      "byteLimit": 2048000,
      "rowLimit": 10000
     },
     "inputWidgets": {},
     "nuid": "3eacf83b-b531-4ddb-8fa9-c774d9e6ee42",
     "showTitle": false,
     "tableResultSettingsMap": {},
     "title": ""
    }
   },
   "outputs": [
    {
     "output_type": "display_data",
     "data": {
      "text/plain": [
       "21"
      ]
     },
     "metadata": {},
     "output_type": "display_data"
    },
    {
     "output_type": "display_data",
     "data": {
      "text/plain": [
       "20"
      ]
     },
     "metadata": {},
     "output_type": "display_data"
    }
   ],
   "source": [
    "display(patient_df.select(\"first_name\", \"last_name\", \"age\", \"year_of_birth\", \"address\", \"phone_number\", \"gender\").count())\n",
    "display(patient_df.select(\"first_name\", \"last_name\", \"age\", \"year_of_birth\", \"address\", \"phone_number\", \"gender\").dropDuplicates().count())"
   ]
  },
  {
   "cell_type": "code",
   "execution_count": 0,
   "metadata": {
    "application/vnd.databricks.v1+cell": {
     "cellMetadata": {
      "byteLimit": 2048000,
      "rowLimit": 10000
     },
     "inputWidgets": {},
     "nuid": "a51e4443-933b-42a2-92c0-584a4c1cd64f",
     "showTitle": false,
     "tableResultSettingsMap": {},
     "title": ""
    }
   },
   "outputs": [],
   "source": [
    "patient_df = patient_df.dropDuplicates([\"first_name\", \"last_name\", \"age\", \"year_of_birth\", \"address\", \"phone_number\", \"gender\"])"
   ]
  },
  {
   "cell_type": "code",
   "execution_count": 0,
   "metadata": {
    "application/vnd.databricks.v1+cell": {
     "cellMetadata": {
      "byteLimit": 2048000,
      "rowLimit": 10000
     },
     "inputWidgets": {},
     "nuid": "2d289edf-4bf6-4942-8972-de6a7218e820",
     "showTitle": false,
     "tableResultSettingsMap": {},
     "title": ""
    }
   },
   "outputs": [
    {
     "output_type": "stream",
     "name": "stdout",
     "output_type": "stream",
     "text": [
      "+---+----------+---------+----------+\n| id|first_name|last_name|npi_number|\n+---+----------+---------+----------+\n|  1| Dr. Alice|    Brown|1234567890|\n|  2| Dr. James|    White|9876543217|\n+---+----------+---------+----------+\nonly showing top 2 rows\n\n"
     ]
    }
   ],
   "source": [
    "physician_df.show(2)"
   ]
  },
  {
   "cell_type": "code",
   "execution_count": 0,
   "metadata": {
    "application/vnd.databricks.v1+cell": {
     "cellMetadata": {
      "byteLimit": 2048000,
      "rowLimit": 10000
     },
     "inputWidgets": {},
     "nuid": "c6431177-5e64-451f-afe7-f507c4726ebe",
     "showTitle": false,
     "tableResultSettingsMap": {},
     "title": ""
    }
   },
   "outputs": [
    {
     "output_type": "display_data",
     "data": {
      "text/plain": [
       "30"
      ]
     },
     "metadata": {},
     "output_type": "display_data"
    },
    {
     "output_type": "display_data",
     "data": {
      "text/plain": [
       "30"
      ]
     },
     "metadata": {},
     "output_type": "display_data"
    }
   ],
   "source": [
    "display(physician_df.select(\"first_name\", \"last_name\", \"npi_number\").count())\n",
    "display(physician_df.select(\"first_name\", \"last_name\", \"npi_number\").dropDuplicates().count())"
   ]
  },
  {
   "cell_type": "code",
   "execution_count": 0,
   "metadata": {
    "application/vnd.databricks.v1+cell": {
     "cellMetadata": {
      "byteLimit": 2048000,
      "rowLimit": 10000
     },
     "inputWidgets": {},
     "nuid": "821201a9-f961-46e8-9104-e32bc9208099",
     "showTitle": false,
     "tableResultSettingsMap": {},
     "title": ""
    }
   },
   "outputs": [
    {
     "output_type": "stream",
     "name": "stdout",
     "output_type": "stream",
     "text": [
      "+---+----------------+--------------+\n| id|     clinic_name|       address|\n+---+----------------+--------------+\n|  1| Downtown Health|123 Health Ave|\n|  2|Riverside Clinic|  456 River Rd|\n+---+----------------+--------------+\nonly showing top 2 rows\n\n"
     ]
    }
   ],
   "source": [
    "clinic_df.show(2)"
   ]
  },
  {
   "cell_type": "code",
   "execution_count": 0,
   "metadata": {
    "application/vnd.databricks.v1+cell": {
     "cellMetadata": {
      "byteLimit": 2048000,
      "rowLimit": 10000
     },
     "inputWidgets": {},
     "nuid": "2202ac0e-175b-4d6f-8f42-5e2ec17156f9",
     "showTitle": false,
     "tableResultSettingsMap": {},
     "title": ""
    }
   },
   "outputs": [
    {
     "output_type": "display_data",
     "data": {
      "text/plain": [
       "25"
      ]
     },
     "metadata": {},
     "output_type": "display_data"
    },
    {
     "output_type": "display_data",
     "data": {
      "text/plain": [
       "25"
      ]
     },
     "metadata": {},
     "output_type": "display_data"
    }
   ],
   "source": [
    "display(clinic_df.select(\"clinic_name\", \"address\").count())\n",
    "display(clinic_df.select(\"clinic_name\", \"address\").dropDuplicates().count())"
   ]
  },
  {
   "cell_type": "code",
   "execution_count": 0,
   "metadata": {
    "application/vnd.databricks.v1+cell": {
     "cellMetadata": {
      "byteLimit": 2048000,
      "rowLimit": 10000
     },
     "inputWidgets": {},
     "nuid": "8d73d829-d0a2-4360-b3af-b8473a2c80c2",
     "showTitle": false,
     "tableResultSettingsMap": {},
     "title": ""
    }
   },
   "outputs": [
    {
     "output_type": "stream",
     "name": "stdout",
     "output_type": "stream",
     "text": [
      "+---+----------+------------+---------+------------+-------------------+-------------------+---------+\n| id|patient_id|physician_id|clinic_id|scheduled_on| session_started_at|   session_ended_at|   status|\n+---+----------+------------+---------+------------+-------------------+-------------------+---------+\n|  1|         1|           1|        1|  2023-10-05|2023-10-05 09:00:00|2023-10-05 09:30:00|Confirmed|\n|  2|         2|           2|        2|  2023-10-05|               NULL|               NULL|Cancelled|\n+---+----------+------------+---------+------------+-------------------+-------------------+---------+\nonly showing top 2 rows\n\n"
     ]
    }
   ],
   "source": [
    "session_df.show(2)"
   ]
  },
  {
   "cell_type": "code",
   "execution_count": 0,
   "metadata": {
    "application/vnd.databricks.v1+cell": {
     "cellMetadata": {
      "byteLimit": 2048000,
      "rowLimit": 10000
     },
     "inputWidgets": {},
     "nuid": "b11c6c4d-96fa-4ee1-9a2d-8e58636402b5",
     "showTitle": false,
     "tableResultSettingsMap": {},
     "title": ""
    }
   },
   "outputs": [
    {
     "output_type": "display_data",
     "data": {
      "text/plain": [
       "40"
      ]
     },
     "metadata": {},
     "output_type": "display_data"
    },
    {
     "output_type": "display_data",
     "data": {
      "text/plain": [
       "40"
      ]
     },
     "metadata": {},
     "output_type": "display_data"
    }
   ],
   "source": [
    "display(session_df.select(\"patient_id\", \"physician_id\", \"clinic_id\", \"scheduled_on\", \"session_started_at\", \"session_ended_at\", \"status\").count())\n",
    "display(session_df.select(\"patient_id\", \"physician_id\", \"clinic_id\", \"scheduled_on\", \"session_started_at\", \"session_ended_at\", \"status\").dropDuplicates().count())"
   ]
  },
  {
   "cell_type": "markdown",
   "metadata": {
    "application/vnd.databricks.v1+cell": {
     "cellMetadata": {
      "byteLimit": 2048000,
      "rowLimit": 10000
     },
     "inputWidgets": {},
     "nuid": "cfd49d77-dab0-45b1-a240-aaf84889b502",
     "showTitle": false,
     "tableResultSettingsMap": {},
     "title": ""
    }
   },
   "source": [
    "### Calculating session time"
   ]
  },
  {
   "cell_type": "code",
   "execution_count": 0,
   "metadata": {
    "application/vnd.databricks.v1+cell": {
     "cellMetadata": {
      "byteLimit": 2048000,
      "rowLimit": 10000
     },
     "inputWidgets": {},
     "nuid": "fa976818-c01c-4fcc-b683-074c8faa3da9",
     "showTitle": false,
     "tableResultSettingsMap": {},
     "title": ""
    }
   },
   "outputs": [
    {
     "output_type": "stream",
     "name": "stdout",
     "output_type": "stream",
     "text": [
      "+---+----------+------------+---------+------------+-------------------+-------------------+---------+\n| id|patient_id|physician_id|clinic_id|scheduled_on| session_started_at|   session_ended_at|   status|\n+---+----------+------------+---------+------------+-------------------+-------------------+---------+\n|  1|         1|           1|        1|  2023-10-05|2023-10-05 09:00:00|2023-10-05 09:30:00|Confirmed|\n|  2|         2|           2|        2|  2023-10-05|               NULL|               NULL|Cancelled|\n+---+----------+------------+---------+------------+-------------------+-------------------+---------+\nonly showing top 2 rows\n\n"
     ]
    }
   ],
   "source": [
    "session_df.show(2)"
   ]
  },
  {
   "cell_type": "code",
   "execution_count": 0,
   "metadata": {
    "application/vnd.databricks.v1+cell": {
     "cellMetadata": {
      "byteLimit": 2048000,
      "rowLimit": 10000
     },
     "inputWidgets": {},
     "nuid": "fd49b038-fc11-4e36-af6b-8317d819a542",
     "showTitle": false,
     "tableResultSettingsMap": {},
     "title": ""
    }
   },
   "outputs": [
    {
     "output_type": "stream",
     "name": "stdout",
     "output_type": "stream",
     "text": [
      "+---+----------+------------+---------+------------+---------+---------------------+\n| id|patient_id|physician_id|clinic_id|scheduled_on|   status|session_duration_mins|\n+---+----------+------------+---------+------------+---------+---------------------+\n|  1|         1|           1|        1|  2023-10-05|Confirmed|                   30|\n|  2|         2|           2|        2|  2023-10-05|Cancelled|                 NULL|\n|  3|         3|           1|        1|  2023-10-05|Confirmed|                   30|\n|  4|         4|           3|        3|  2023-10-05|Confirmed|                   30|\n|  5|         5|           2|        2|  2023-10-05|Confirmed|                   45|\n+---+----------+------------+---------+------------+---------+---------------------+\nonly showing top 5 rows\n\n"
     ]
    }
   ],
   "source": [
    "session_df = session_df.withColumn('session_duration_mins', ((col('session_ended_at').cast('long') - col('session_started_at').cast('long'))/60).cast('int'))\n",
    "session_df = session_df.select(\"id\", \"patient_id\", \"physician_id\", \"clinic_id\", \"scheduled_on\", \"status\", \"session_duration_mins\")\n",
    "session_df.show(5)"
   ]
  },
  {
   "cell_type": "markdown",
   "metadata": {
    "application/vnd.databricks.v1+cell": {
     "cellMetadata": {
      "byteLimit": 2048000,
      "rowLimit": 10000
     },
     "inputWidgets": {},
     "nuid": "59f65c32-65e8-4c57-be2e-748389d694bb",
     "showTitle": false,
     "tableResultSettingsMap": {},
     "title": ""
    }
   },
   "source": [
    "### Save the cleaned files"
   ]
  },
  {
   "cell_type": "code",
   "execution_count": 0,
   "metadata": {
    "application/vnd.databricks.v1+cell": {
     "cellMetadata": {
      "byteLimit": 2048000,
      "rowLimit": 10000
     },
     "inputWidgets": {},
     "nuid": "60c30c52-8bf1-4150-ac85-00c8789c82c6",
     "showTitle": false,
     "tableResultSettingsMap": {},
     "title": ""
    }
   },
   "outputs": [],
   "source": [
    "dataframes = {\n",
    "  \"patient\": patient_df,\n",
    "  \"physician\": physician_df,\n",
    "  \"clinic\": clinic_df,\n",
    "  \"session\": session_df\n",
    "}\n",
    "\n",
    "for name, df in dataframes.items():\n",
    "  df.write.format(\"parquet\").mode(\"overwrite\").save(f\"/mnt/cleaning/cleaned_data/{name}.parquet\")"
   ]
  },
  {
   "cell_type": "markdown",
   "metadata": {
    "application/vnd.databricks.v1+cell": {
     "cellMetadata": {
      "byteLimit": 2048000,
      "rowLimit": 10000
     },
     "inputWidgets": {},
     "nuid": "3648ed1a-2380-46d1-b995-2352b5ac59c6",
     "showTitle": false,
     "tableResultSettingsMap": {},
     "title": ""
    }
   },
   "source": [
    "---"
   ]
  }
 ],
 "metadata": {
  "application/vnd.databricks.v1+notebook": {
   "dashboards": [],
   "environmentMetadata": {
    "base_environment": "",
    "client": "1"
   },
   "language": "python",
   "notebookMetadata": {
    "pythonIndentUnit": 2
   },
   "notebookName": "healthcare-data-cleaning-dev- 2024-11-18 10:10:53",
   "widgets": {}
  },
  "language_info": {
   "name": "python"
  }
 },
 "nbformat": 4,
 "nbformat_minor": 0
}